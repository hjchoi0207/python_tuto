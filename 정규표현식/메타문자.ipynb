{
  "nbformat": 4,
  "nbformat_minor": 0,
  "metadata": {
    "colab": {
      "name": "메타문자.ipynb",
      "provenance": [],
      "collapsed_sections": [],
      "authorship_tag": "ABX9TyN+0OgaPWeed02rL5kBnDvt",
      "include_colab_link": true
    },
    "kernelspec": {
      "name": "python3",
      "display_name": "Python 3"
    }
  },
  "cells": [
    {
      "cell_type": "markdown",
      "metadata": {
        "id": "view-in-github",
        "colab_type": "text"
      },
      "source": [
        "<a href=\"https://colab.research.google.com/github/hjchoi0207/python_tuto/blob/master/%EC%A0%95%EA%B7%9C%ED%91%9C%ED%98%84%EC%8B%9D/%EB%A9%94%ED%83%80%EB%AC%B8%EC%9E%90.ipynb\" target=\"_parent\"><img src=\"https://colab.research.google.com/assets/colab-badge.svg\" alt=\"Open In Colab\"/></a>"
      ]
    },
    {
      "cell_type": "markdown",
      "metadata": {
        "id": "ViOJRa77VXzd",
        "colab_type": "text"
      },
      "source": [
        "# **정규표현식 메타문자**"
      ]
    },
    {
      "cell_type": "markdown",
      "metadata": {
        "id": "Z_qq6EC9XfJk",
        "colab_type": "text"
      },
      "source": [
        "### **메타문자 |**   \n",
        "or과 같은 의미"
      ]
    },
    {
      "cell_type": "code",
      "metadata": {
        "id": "QEU_878OVU_Q",
        "colab_type": "code",
        "colab": {
          "base_uri": "https://localhost:8080/",
          "height": 35
        },
        "outputId": "f69306d1-7e8b-4d43-cab9-5b7f31570abd"
      },
      "source": [
        "import re\n",
        "p = re.compile('Crow|Servo')\n",
        "m = p.match('CrowHello')\n",
        "print(m)"
      ],
      "execution_count": 1,
      "outputs": [
        {
          "output_type": "stream",
          "text": [
            "<_sre.SRE_Match object; span=(0, 4), match='Crow'>\n"
          ],
          "name": "stdout"
        }
      ]
    },
    {
      "cell_type": "markdown",
      "metadata": {
        "id": "tdWSz7y5ZA8q",
        "colab_type": "text"
      },
      "source": [
        "### **메타문자 ^**   \n",
        "처음에 문자가 나오는지"
      ]
    },
    {
      "cell_type": "code",
      "metadata": {
        "id": "W1U9LVwYa10M",
        "colab_type": "code",
        "colab": {
          "base_uri": "https://localhost:8080/",
          "height": 53
        },
        "outputId": "ffe68771-3355-4263-eeac-b9eda347dec6"
      },
      "source": [
        "import re\n",
        "p = re.compile(\"^Life\")\n",
        "m = p.match('Life is too short')\n",
        "print(m)\n",
        "m = p.match('My Life')\n",
        "print(m)"
      ],
      "execution_count": 7,
      "outputs": [
        {
          "output_type": "stream",
          "text": [
            "<_sre.SRE_Match object; span=(0, 4), match='Life'>\n",
            "None\n"
          ],
          "name": "stdout"
        }
      ]
    },
    {
      "cell_type": "code",
      "metadata": {
        "id": "_zeu87RsY5jj",
        "colab_type": "code",
        "colab": {
          "base_uri": "https://localhost:8080/",
          "height": 53
        },
        "outputId": "8a99aab6-a3c2-428b-ed29-32c2f85654f8"
      },
      "source": [
        "import re\n",
        "print(re.search('^Life', 'Life is too short'))\n",
        "print(re.search('^Life', 'My Life'))"
      ],
      "execution_count": 2,
      "outputs": [
        {
          "output_type": "stream",
          "text": [
            "<_sre.SRE_Match object; span=(0, 4), match='Life'>\n",
            "None\n"
          ],
          "name": "stdout"
        }
      ]
    },
    {
      "cell_type": "markdown",
      "metadata": {
        "id": "FYdlIq63ZeES",
        "colab_type": "text"
      },
      "source": [
        "### **메타문자 $**  \n",
        "맨 끝을 의미 "
      ]
    },
    {
      "cell_type": "code",
      "metadata": {
        "id": "sFNL3RncZRuk",
        "colab_type": "code",
        "colab": {
          "base_uri": "https://localhost:8080/",
          "height": 53
        },
        "outputId": "b2fcd26c-050d-41ab-dd60-762081cad846"
      },
      "source": [
        "import re\n",
        "print(re.search('short$', 'Life is too short'))\n",
        "print(re.search('short$', 'Life is too short, you need python'))"
      ],
      "execution_count": 4,
      "outputs": [
        {
          "output_type": "stream",
          "text": [
            "<_sre.SRE_Match object; span=(12, 17), match='short'>\n",
            "None\n"
          ],
          "name": "stdout"
        }
      ]
    },
    {
      "cell_type": "markdown",
      "metadata": {
        "id": "pK0A8AsvaA7H",
        "colab_type": "text"
      },
      "source": [
        "### **메타문자 \\b**   \n",
        "공백을 뜻함"
      ]
    },
    {
      "cell_type": "code",
      "metadata": {
        "id": "atT_V6R6Z2cW",
        "colab_type": "code",
        "colab": {
          "base_uri": "https://localhost:8080/",
          "height": 71
        },
        "outputId": "5b6f18b5-14b0-46d8-9f42-622bdc9a7781"
      },
      "source": [
        "import re\n",
        "p = re.compile(r'\\bclass\\b')\n",
        "print(p.search('no class at all'))\n",
        "print(p.search('the declassified algorithm'))\n",
        "print(p.search('one subclass is'))"
      ],
      "execution_count": 6,
      "outputs": [
        {
          "output_type": "stream",
          "text": [
            "<_sre.SRE_Match object; span=(3, 8), match='class'>\n",
            "None\n",
            "None\n"
          ],
          "name": "stdout"
        }
      ]
    },
    {
      "cell_type": "code",
      "metadata": {
        "id": "Jr8N-6EGaVrr",
        "colab_type": "code",
        "colab": {}
      },
      "source": [
        ""
      ],
      "execution_count": null,
      "outputs": []
    }
  ]
}