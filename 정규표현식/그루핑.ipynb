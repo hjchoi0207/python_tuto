{
  "nbformat": 4,
  "nbformat_minor": 0,
  "metadata": {
    "colab": {
      "name": "Untitled4.ipynb",
      "provenance": [],
      "collapsed_sections": [],
      "authorship_tag": "ABX9TyOx/vVyweMM8PLmF8Fc8I8e",
      "include_colab_link": true
    },
    "kernelspec": {
      "name": "python3",
      "display_name": "Python 3"
    }
  },
  "cells": [
    {
      "cell_type": "markdown",
      "metadata": {
        "id": "view-in-github",
        "colab_type": "text"
      },
      "source": [
        "<a href=\"https://colab.research.google.com/github/hjchoi0207/python_tuto/blob/master/%EA%B7%B8%EB%A3%A8%ED%95%91.ipynb\" target=\"_parent\"><img src=\"https://colab.research.google.com/assets/colab-badge.svg\" alt=\"Open In Colab\"/></a>"
      ]
    },
    {
      "cell_type": "markdown",
      "metadata": {
        "id": "yyDgZ5jffiTN",
        "colab_type": "text"
      },
      "source": [
        "### **그루핑**"
      ]
    },
    {
      "cell_type": "code",
      "metadata": {
        "id": "e86Q3FyRfhgK",
        "colab_type": "code",
        "colab": {
          "base_uri": "https://localhost:8080/",
          "height": 53
        },
        "outputId": "6e379caa-9a18-4dd0-986c-8bfd91ac3d84"
      },
      "source": [
        "import re\n",
        "\n",
        "p = re.compile('ABC+')    # AB다음 C가 반복되는 것을 찾은\n",
        "m = p.search('ABCABCABC')\n",
        "print(m)\n",
        "print(m.group())"
      ],
      "execution_count": 1,
      "outputs": [
        {
          "output_type": "stream",
          "text": [
            "<_sre.SRE_Match object; span=(0, 3), match='ABC'>\n",
            "ABC\n"
          ],
          "name": "stdout"
        }
      ]
    },
    {
      "cell_type": "code",
      "metadata": {
        "id": "MaQOPNYjfz-c",
        "colab_type": "code",
        "colab": {
          "base_uri": "https://localhost:8080/",
          "height": 53
        },
        "outputId": "cb6c15a0-5f5f-4025-e89b-dd3c8064d9be"
      },
      "source": [
        "p = re.compile('(ABC)+')  # ABC가 반복되는 것을 찾음\n",
        "m = p.search('ABCABCABC')\n",
        "print(m)\n",
        "print(m.group())"
      ],
      "execution_count": 2,
      "outputs": [
        {
          "output_type": "stream",
          "text": [
            "<_sre.SRE_Match object; span=(0, 9), match='ABCABCABC'>\n",
            "ABCABCABC\n"
          ],
          "name": "stdout"
        }
      ]
    },
    {
      "cell_type": "code",
      "metadata": {
        "id": "w8ilmaiYf5nO",
        "colab_type": "code",
        "colab": {
          "base_uri": "https://localhost:8080/",
          "height": 53
        },
        "outputId": "211e804b-de7e-4287-803d-e091498420bd"
      },
      "source": [
        "import re\n",
        "p = re.compile(r\"(\\w+)\\s+\\d+[-]\\d+[-]\\d+\")\n",
        "m = p.search('park 010-1234-1234')\n",
        "print(m.group())\n",
        "print(m.group(1))"
      ],
      "execution_count": 3,
      "outputs": [
        {
          "output_type": "stream",
          "text": [
            "park 010-1234-1234\n",
            "park\n"
          ],
          "name": "stdout"
        }
      ]
    },
    {
      "cell_type": "code",
      "metadata": {
        "id": "U5dVQaulgdL_",
        "colab_type": "code",
        "colab": {
          "base_uri": "https://localhost:8080/",
          "height": 35
        },
        "outputId": "c1a64b57-da95-463f-eecd-65ea371d2d9a"
      },
      "source": [
        "import re\n",
        "p = re.compile(r\"(?P<name>\\w+)\\s+\\d+[-]\\d+[-]\\d+\")\n",
        "m = p.search('park 010-1234-1234')\n",
        "print(m.group(\"name\"))"
      ],
      "execution_count": 9,
      "outputs": [
        {
          "output_type": "stream",
          "text": [
            "park\n"
          ],
          "name": "stdout"
        }
      ]
    }
  ]
}
