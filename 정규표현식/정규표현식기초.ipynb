{
  "nbformat": 4,
  "nbformat_minor": 0,
  "metadata": {
    "colab": {
      "name": "정규표현식기초.ipynb",
      "provenance": [],
      "collapsed_sections": [],
      "authorship_tag": "ABX9TyM61npCRJrD9Ct92j14vKzn",
      "include_colab_link": true
    },
    "kernelspec": {
      "name": "python3",
      "display_name": "Python 3"
    }
  },
  "cells": [
    {
      "cell_type": "markdown",
      "metadata": {
        "id": "view-in-github",
        "colab_type": "text"
      },
      "source": [
        "<a href=\"https://colab.research.google.com/github/hjchoi0207/python_tuto/blob/master/%EC%A0%95%EA%B7%9C%ED%91%9C%ED%98%84%EC%8B%9D/%EC%A0%95%EA%B7%9C%ED%91%9C%ED%98%84%EC%8B%9D%EA%B8%B0%EC%B4%88.ipynb\" target=\"_parent\"><img src=\"https://colab.research.google.com/assets/colab-badge.svg\" alt=\"Open In Colab\"/></a>"
      ]
    },
    {
      "cell_type": "markdown",
      "metadata": {
        "id": "H3-k83rwOdQ9",
        "colab_type": "text"
      },
      "source": [
        "# **정규표현식 기초**\n",
        "\n",
        "```\n",
        "[abc]\n",
        "```\n",
        "[ ] 사이의 문자들과 매치\n",
        "\n",
        "```\n",
        "a.b\n",
        "```\n",
        "줄바꿈을 제외한 모든 문자와 매치하는지 \n",
        "ex )) a0b, aab 등 매치가능하지만 abc는 매치되지 않는다.\n",
        "```python\n",
        "p = re.compile('a.b', re.DOTALL) # or re.S\n",
        "m = p.match('a\\nb')\n",
        "```\n",
        " 그러나 DOTALL 이용시 가능 (위의 결과는 일치)\n",
        "```\n",
        "ca*t\n",
        "```\n",
        "반복 : 'a'가 0번 이상 반복되면 일치\n",
        "\n",
        "\n",
        "```\n",
        "ca+t\n",
        "```\n",
        "반복 : 'a'가 1번 이상 반복되면 일치\n",
        "\n",
        "```\n",
        "ca{2}t\n",
        "```\n",
        "반복 : 'a'가 정확히 2번 반복 되면 일치\n",
        "\n",
        "```\n",
        "ca{2,5}t\n",
        "```\n",
        "반복 : 'a'가 2번 이상 5번 이하 반복되면 일치\n",
        "\n",
        "```\n",
        "ab?c\n",
        "```\n",
        "반복 : ? == {0,1} 와 동일한 표현\n"
      ]
    },
    {
      "cell_type": "code",
      "metadata": {
        "id": "5Sotn1JTObjW",
        "colab_type": "code",
        "colab": {}
      },
      "source": [
        "import re\n",
        "p = re.complie('ab*') # 패턴 객체라고 지칭한다"
      ],
      "execution_count": null,
      "outputs": []
    },
    {
      "cell_type": "markdown",
      "metadata": {
        "id": "uk_D9kvVP3d6",
        "colab_type": "text"
      },
      "source": [
        "# 패턴 객체를 활용하는 방법 4가지\n",
        "1. Match\n",
        "2. Search\n",
        "3. Findall\n",
        "4. Finditer"
      ]
    },
    {
      "cell_type": "markdown",
      "metadata": {
        "id": "S_6FmOfZQFI9",
        "colab_type": "text"
      },
      "source": [
        "1. Match"
      ]
    },
    {
      "cell_type": "code",
      "metadata": {
        "id": "ngIW_gruQEVN",
        "colab_type": "code",
        "colab": {
          "base_uri": "https://localhost:8080/",
          "height": 125
        },
        "outputId": "a878e2d7-e0a8-4cb3-92c0-963951575813"
      },
      "source": [
        "import re\n",
        "p = re.compile('[a-z]+') # a to z 1번 이상 반복\n",
        "m = p.match('python')\n",
        "print(m)\n",
        "print(m.group())  # 매치 문자열 반환\n",
        "print(m.start())  # 시작 문자 인덱스\n",
        "print(m.end())    # 마지막 문자 인덱스\n",
        "print(m.span())   # 시작과 끝 튜플형태 반환\n",
        "\n",
        "m = p.match('3python')\n",
        "print(m)"
      ],
      "execution_count": 10,
      "outputs": [
        {
          "output_type": "stream",
          "text": [
            "<_sre.SRE_Match object; span=(0, 6), match='python'>\n",
            "python\n",
            "0\n",
            "6\n",
            "(0, 6)\n",
            "None\n"
          ],
          "name": "stdout"
        }
      ]
    },
    {
      "cell_type": "markdown",
      "metadata": {
        "id": "8uO7ywDjSnBH",
        "colab_type": "text"
      },
      "source": [
        "1-1. IGNORECASE , I"
      ]
    },
    {
      "cell_type": "code",
      "metadata": {
        "id": "iQ0ZwUP2Sj2q",
        "colab_type": "code",
        "colab": {
          "base_uri": "https://localhost:8080/",
          "height": 71
        },
        "outputId": "b64166d5-b4be-461d-d8ac-a152b72c01f9"
      },
      "source": [
        "import re\n",
        "p = re.compile('[a-z]',re.I)   # 모두 매치\n",
        "print(p.match('python'))\n",
        "print(p.match('Python')) \n",
        "print(p.match('PYTHON')) "
      ],
      "execution_count": 11,
      "outputs": [
        {
          "output_type": "stream",
          "text": [
            "<_sre.SRE_Match object; span=(0, 1), match='p'>\n",
            "<_sre.SRE_Match object; span=(0, 1), match='P'>\n",
            "<_sre.SRE_Match object; span=(0, 1), match='P'>\n"
          ],
          "name": "stdout"
        }
      ]
    },
    {
      "cell_type": "markdown",
      "metadata": {
        "id": "FbXcCQb1QcUp",
        "colab_type": "text"
      },
      "source": [
        "2. Search"
      ]
    },
    {
      "cell_type": "code",
      "metadata": {
        "id": "-a350n8KP_W3",
        "colab_type": "code",
        "colab": {
          "base_uri": "https://localhost:8080/",
          "height": 53
        },
        "outputId": "ef39302f-2e99-4e88-cf40-7636fea6d83e"
      },
      "source": [
        "m = p.search('python')\n",
        "print(m)\n",
        "m = p.search('3 python')\n",
        "print(m)"
      ],
      "execution_count": 2,
      "outputs": [
        {
          "output_type": "stream",
          "text": [
            "<_sre.SRE_Match object; span=(0, 6), match='python'>\n",
            "<_sre.SRE_Match object; span=(2, 8), match='python'>\n"
          ],
          "name": "stdout"
        }
      ]
    },
    {
      "cell_type": "markdown",
      "metadata": {
        "id": "6o74iigpQnp5",
        "colab_type": "text"
      },
      "source": [
        "3. Findall"
      ]
    },
    {
      "cell_type": "code",
      "metadata": {
        "id": "GTfmrcAoP_rR",
        "colab_type": "code",
        "colab": {
          "base_uri": "https://localhost:8080/",
          "height": 53
        },
        "outputId": "c9b7c611-c851-410a-89a3-577ec61f92db"
      },
      "source": [
        "m = p.findall(\"Life is too short\")\n",
        "print(m)  # 일치하는 부분을 리스트 형태로 반환\n",
        "m = p.findall(\"Life is too sh33ort\")\n",
        "print(m)"
      ],
      "execution_count": 5,
      "outputs": [
        {
          "output_type": "stream",
          "text": [
            "['ife', 'is', 'too', 'short']\n",
            "['ife', 'is', 'too', 'sh', 'ort']\n"
          ],
          "name": "stdout"
        }
      ]
    },
    {
      "cell_type": "markdown",
      "metadata": {
        "id": "KzV0L2tlTX2s",
        "colab_type": "text"
      },
      "source": [
        "3-1. MULTILINE, M"
      ]
    },
    {
      "cell_type": "code",
      "metadata": {
        "id": "nVk61iM8TSDJ",
        "colab_type": "code",
        "colab": {
          "base_uri": "https://localhost:8080/",
          "height": 53
        },
        "outputId": "f23f4b08-448f-4539-e55f-761a63e24cf7"
      },
      "source": [
        "import re\n",
        "p0 = re.compile(\"^python\\s\\w+\")   # ^시작단어, \\s : 공백, \\w : 단어\n",
        "p1 = re.compile(\"^python\\s\\w+\",re.M)\n",
        "data = \"\"\"python one\n",
        "life is too short\n",
        "python two\n",
        "you need python\n",
        "python three\n",
        "\"\"\"\n",
        "print(p0.findall(data))\n",
        "print(p1.findall(data))"
      ],
      "execution_count": 13,
      "outputs": [
        {
          "output_type": "stream",
          "text": [
            "['python one']\n",
            "['python one', 'python two', 'python three']\n"
          ],
          "name": "stdout"
        }
      ]
    },
    {
      "cell_type": "markdown",
      "metadata": {
        "id": "queabJdLTPfU",
        "colab_type": "text"
      },
      "source": [
        "4. Finditer"
      ]
    },
    {
      "cell_type": "code",
      "metadata": {
        "id": "j_RlBaZKQxAZ",
        "colab_type": "code",
        "colab": {
          "base_uri": "https://localhost:8080/",
          "height": 107
        },
        "outputId": "209c4c79-e576-4f24-cd6a-6c02c2ab5dcb"
      },
      "source": [
        "m = p.finditer(\"Life is too short\")\n",
        "print(m)\n",
        "for i in m:\n",
        "  print(i)   # match 객체로 리턴"
      ],
      "execution_count": 7,
      "outputs": [
        {
          "output_type": "stream",
          "text": [
            "<callable_iterator object at 0x7f4ea09a9c50>\n",
            "<_sre.SRE_Match object; span=(1, 4), match='ife'>\n",
            "<_sre.SRE_Match object; span=(5, 7), match='is'>\n",
            "<_sre.SRE_Match object; span=(8, 11), match='too'>\n",
            "<_sre.SRE_Match object; span=(12, 17), match='short'>\n"
          ],
          "name": "stdout"
        }
      ]
    },
    {
      "cell_type": "markdown",
      "metadata": {
        "id": "qFiNoX5fUCxC",
        "colab_type": "text"
      },
      "source": [
        "**백슬래시 문제**\n",
        "```\n",
        "\\section\n",
        "```\n",
        "section을 찾는 것이 아닌 공백(\\s) + ection 을 찾게된다"
      ]
    },
    {
      "cell_type": "code",
      "metadata": {
        "id": "-AzHKNTURK99",
        "colab_type": "code",
        "colab": {}
      },
      "source": [
        "p = re.compile('\\\\\\\\section')\n",
        "p = re.compile(r'\\\\section')  # r을 이용해 백슬래시를 중복하지 않아도 되게 바꾼다."
      ],
      "execution_count": null,
      "outputs": []
    }
  ]
}