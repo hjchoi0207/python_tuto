{
  "nbformat": 4,
  "nbformat_minor": 0,
  "metadata": {
    "colab": {
      "name": "정규표현식.ipynb",
      "provenance": [],
      "collapsed_sections": [],
      "authorship_tag": "ABX9TyOkqgVtmqhZB8UNadwkUJ0D",
      "include_colab_link": true
    },
    "kernelspec": {
      "name": "python3",
      "display_name": "Python 3"
    }
  },
  "cells": [
    {
      "cell_type": "markdown",
      "metadata": {
        "id": "view-in-github",
        "colab_type": "text"
      },
      "source": [
        "<a href=\"https://colab.research.google.com/github/hjchoi0207/python_tuto/blob/master/%EC%A0%95%EA%B7%9C%ED%91%9C%ED%98%84%EC%8B%9D/%EC%A0%95%EA%B7%9C%ED%91%9C%ED%98%84%EC%8B%9D.ipynb\" target=\"_parent\"><img src=\"https://colab.research.google.com/assets/colab-badge.svg\" alt=\"Open In Colab\"/></a>"
      ]
    },
    {
      "cell_type": "markdown",
      "metadata": {
        "id": "rO0cOSEuN5pT",
        "colab_type": "text"
      },
      "source": [
        "**정규표현식을 사용하지 않았을 때**"
      ]
    },
    {
      "cell_type": "code",
      "metadata": {
        "id": "yhZOY26PNzzs",
        "colab_type": "code",
        "colab": {}
      },
      "source": [
        "#주민등록 번호의 뒷자리를 * 문자로 변경하시오\n",
        "\n",
        "data = \"\"\"\n",
        "park 800905-1049118\n",
        "kim 700905-1059119\n",
        "\"\"\"\n",
        "\n",
        "result = []\n",
        "for line in data.split('\\n'):\n",
        "    word_result = []\n",
        "    for word in line.split(\" \"):\n",
        "        if len(word) == 14 and word[:6].isdight() and word[7:].isdight():\n",
        "            word = word[:6] + \"-\" + \"*******\"\n",
        "        word_result.append(word)\n",
        "    result.append(\" \".join(word_result))\n",
        "print(\"\\n\".join(result))"
      ],
      "execution_count": null,
      "outputs": []
    },
    {
      "cell_type": "markdown",
      "metadata": {
        "id": "WCXwqgVZN8vM",
        "colab_type": "text"
      },
      "source": [
        "**정규표현식 사용 시**"
      ]
    },
    {
      "cell_type": "code",
      "metadata": {
        "id": "zwmo_-LON-sJ",
        "colab_type": "code",
        "colab": {
          "base_uri": "https://localhost:8080/",
          "height": 89
        },
        "outputId": "4cda6492-c026-4029-adb4-63d4c67d30bb"
      },
      "source": [
        "import re\n",
        "\n",
        "data = \"\"\"\n",
        "park 800905-1049118\n",
        "kim 700905-1059119\n",
        "\"\"\"\n",
        "\n",
        "pat = re.compile(\"(\\d{6})[-]\\d{7}\")\n",
        "print(pat.sub(\"\\g<1>-*******\", data))"
      ],
      "execution_count": 3,
      "outputs": [
        {
          "output_type": "stream",
          "text": [
            "\n",
            "park 800905-*******\n",
            "kim 700905-*******\n",
            "\n"
          ],
          "name": "stdout"
        }
      ]
    },
    {
      "cell_type": "code",
      "metadata": {
        "id": "SrYmICqpOJQH",
        "colab_type": "code",
        "colab": {}
      },
      "source": [
        ""
      ],
      "execution_count": null,
      "outputs": []
    }
  ]
}